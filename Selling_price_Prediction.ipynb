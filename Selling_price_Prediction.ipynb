{
 "cells": [
  {
   "cell_type": "markdown",
   "id": "c57f0406",
   "metadata": {},
   "source": [
    "# Importing required libraries "
   ]
  },
  {
   "cell_type": "code",
   "execution_count": 95,
   "id": "9eb2c612",
   "metadata": {},
   "outputs": [],
   "source": [
    "import pandas as pd\n",
    "import numpy as np\n",
    "import seaborn as sns\n",
    "import matplotlib.pyplot as plt"
   ]
  },
  {
   "cell_type": "markdown",
   "id": "8b02a868",
   "metadata": {},
   "source": [
    "# Loading the data"
   ]
  },
  {
   "cell_type": "code",
   "execution_count": 96,
   "id": "9d93df5f",
   "metadata": {},
   "outputs": [
    {
     "data": {
      "text/html": [
       "<div>\n",
       "<style scoped>\n",
       "    .dataframe tbody tr th:only-of-type {\n",
       "        vertical-align: middle;\n",
       "    }\n",
       "\n",
       "    .dataframe tbody tr th {\n",
       "        vertical-align: top;\n",
       "    }\n",
       "\n",
       "    .dataframe thead th {\n",
       "        text-align: right;\n",
       "    }\n",
       "</style>\n",
       "<table border=\"1\" class=\"dataframe\">\n",
       "  <thead>\n",
       "    <tr style=\"text-align: right;\">\n",
       "      <th></th>\n",
       "      <th>Product_id</th>\n",
       "      <th>Stall_no</th>\n",
       "      <th>instock_date</th>\n",
       "      <th>Market_Category</th>\n",
       "      <th>Customer_name</th>\n",
       "      <th>Loyalty_customer</th>\n",
       "      <th>Product_Category</th>\n",
       "      <th>Grade</th>\n",
       "      <th>Demand</th>\n",
       "      <th>Discount_avail</th>\n",
       "      <th>charges_1</th>\n",
       "      <th>charges_2 (%)</th>\n",
       "      <th>Minimum_price</th>\n",
       "      <th>Maximum_price</th>\n",
       "      <th>Selling_Price</th>\n",
       "    </tr>\n",
       "  </thead>\n",
       "  <tbody>\n",
       "    <tr>\n",
       "      <th>0</th>\n",
       "      <td>BRAE2NF6JA5GUEXG</td>\n",
       "      <td>37.0</td>\n",
       "      <td>2015-08-22 18:36:12.000</td>\n",
       "      <td>2</td>\n",
       "      <td>Lillyann</td>\n",
       "      <td>Yes</td>\n",
       "      <td>Fashion</td>\n",
       "      <td>1</td>\n",
       "      <td>68</td>\n",
       "      <td>0.0</td>\n",
       "      <td>376.0</td>\n",
       "      <td>11.0</td>\n",
       "      <td>2983.0</td>\n",
       "      <td>4713.0</td>\n",
       "      <td>4185.947700</td>\n",
       "    </tr>\n",
       "    <tr>\n",
       "      <th>1</th>\n",
       "      <td>TUNE8SFB6RJN2HSD</td>\n",
       "      <td>38.0</td>\n",
       "      <td>2016-03-27 21:19:13.000</td>\n",
       "      <td>24</td>\n",
       "      <td>Klynn</td>\n",
       "      <td>Yes</td>\n",
       "      <td>Fashion</td>\n",
       "      <td>0</td>\n",
       "      <td>51</td>\n",
       "      <td>0.0</td>\n",
       "      <td>397.0</td>\n",
       "      <td>12.0</td>\n",
       "      <td>7495.0</td>\n",
       "      <td>10352.0</td>\n",
       "      <td>9271.490256</td>\n",
       "    </tr>\n",
       "    <tr>\n",
       "      <th>2</th>\n",
       "      <td>BRAEAR7WZPQGPBZU</td>\n",
       "      <td>9.0</td>\n",
       "      <td>2015-08-18 19:25:22.000</td>\n",
       "      <td>447</td>\n",
       "      <td>Ridge</td>\n",
       "      <td>Yes</td>\n",
       "      <td>Child_care</td>\n",
       "      <td>0</td>\n",
       "      <td>10</td>\n",
       "      <td>0.0</td>\n",
       "      <td>250.0</td>\n",
       "      <td>9.0</td>\n",
       "      <td>5752.0</td>\n",
       "      <td>7309.0</td>\n",
       "      <td>6785.701362</td>\n",
       "    </tr>\n",
       "    <tr>\n",
       "      <th>3</th>\n",
       "      <td>WATDZ2ZQ8JPDHCTJ</td>\n",
       "      <td>50.0</td>\n",
       "      <td>2016-03-28 21:53:01.000</td>\n",
       "      <td>23</td>\n",
       "      <td>Abran</td>\n",
       "      <td>Yes</td>\n",
       "      <td>Educational</td>\n",
       "      <td>2</td>\n",
       "      <td>48</td>\n",
       "      <td>0.0</td>\n",
       "      <td>144.0</td>\n",
       "      <td>13.0</td>\n",
       "      <td>5090.0</td>\n",
       "      <td>20814.0</td>\n",
       "      <td>13028.917824</td>\n",
       "    </tr>\n",
       "    <tr>\n",
       "      <th>4</th>\n",
       "      <td>JWSEBUKYQPMBZ3RK</td>\n",
       "      <td>7.0</td>\n",
       "      <td>2016-03-29 22:58:53.000</td>\n",
       "      <td>63</td>\n",
       "      <td>Dustyn</td>\n",
       "      <td>Yes</td>\n",
       "      <td>Repair</td>\n",
       "      <td>1</td>\n",
       "      <td>35</td>\n",
       "      <td>1.0</td>\n",
       "      <td>211.0</td>\n",
       "      <td>4.0</td>\n",
       "      <td>2430.0</td>\n",
       "      <td>9261.0</td>\n",
       "      <td>906.553935</td>\n",
       "    </tr>\n",
       "    <tr>\n",
       "      <th>5</th>\n",
       "      <td>SHIECAYW3VZWGZGX</td>\n",
       "      <td>23.0</td>\n",
       "      <td>2015-09-25 16:31:46.000</td>\n",
       "      <td>162</td>\n",
       "      <td>Brilee</td>\n",
       "      <td>No</td>\n",
       "      <td>Technology</td>\n",
       "      <td>1</td>\n",
       "      <td>49</td>\n",
       "      <td>0.0</td>\n",
       "      <td>633.0</td>\n",
       "      <td>6.0</td>\n",
       "      <td>3959.0</td>\n",
       "      <td>6104.0</td>\n",
       "      <td>5631.247872</td>\n",
       "    </tr>\n",
       "    <tr>\n",
       "      <th>6</th>\n",
       "      <td>SHOE4FZGGTE7HJXN</td>\n",
       "      <td>33.0</td>\n",
       "      <td>2014-12-08 12:25:52.000</td>\n",
       "      <td>462</td>\n",
       "      <td>Zoe</td>\n",
       "      <td>No</td>\n",
       "      <td>Cosmetics</td>\n",
       "      <td>3</td>\n",
       "      <td>57</td>\n",
       "      <td>0.0</td>\n",
       "      <td>263.0</td>\n",
       "      <td>13.0</td>\n",
       "      <td>2006.0</td>\n",
       "      <td>5257.0</td>\n",
       "      <td>3874.264992</td>\n",
       "    </tr>\n",
       "    <tr>\n",
       "      <th>7</th>\n",
       "      <td>SHOE6QGAYFFMBWG6</td>\n",
       "      <td>4.0</td>\n",
       "      <td>2015-09-22 14:29:06.000</td>\n",
       "      <td>23</td>\n",
       "      <td>Koby</td>\n",
       "      <td>Yes</td>\n",
       "      <td>Educational</td>\n",
       "      <td>1</td>\n",
       "      <td>67</td>\n",
       "      <td>0.0</td>\n",
       "      <td>104.0</td>\n",
       "      <td>15.0</td>\n",
       "      <td>3596.0</td>\n",
       "      <td>5921.0</td>\n",
       "      <td>4820.943600</td>\n",
       "    </tr>\n",
       "    <tr>\n",
       "      <th>8</th>\n",
       "      <td>KRTEBSMKCGFESHYX</td>\n",
       "      <td>26.0</td>\n",
       "      <td>2016-03-28 21:48:01.000</td>\n",
       "      <td>156</td>\n",
       "      <td>Tiffani</td>\n",
       "      <td>Yes</td>\n",
       "      <td>Child_care</td>\n",
       "      <td>0</td>\n",
       "      <td>53</td>\n",
       "      <td>0.0</td>\n",
       "      <td>310.0</td>\n",
       "      <td>6.0</td>\n",
       "      <td>6965.0</td>\n",
       "      <td>10194.0</td>\n",
       "      <td>8837.724240</td>\n",
       "    </tr>\n",
       "    <tr>\n",
       "      <th>9</th>\n",
       "      <td>BRAE3P8Y8UVRY43K</td>\n",
       "      <td>5.0</td>\n",
       "      <td>2015-08-19 22:16:52.000</td>\n",
       "      <td>275</td>\n",
       "      <td>Nigel</td>\n",
       "      <td>Yes</td>\n",
       "      <td>Child_care</td>\n",
       "      <td>0</td>\n",
       "      <td>84</td>\n",
       "      <td>1.0</td>\n",
       "      <td>321.0</td>\n",
       "      <td>8.0</td>\n",
       "      <td>1103.0</td>\n",
       "      <td>5430.0</td>\n",
       "      <td>530.761862</td>\n",
       "    </tr>\n",
       "  </tbody>\n",
       "</table>\n",
       "</div>"
      ],
      "text/plain": [
       "         Product_id  Stall_no             instock_date  Market_Category  \\\n",
       "0  BRAE2NF6JA5GUEXG      37.0  2015-08-22 18:36:12.000                2   \n",
       "1  TUNE8SFB6RJN2HSD      38.0  2016-03-27 21:19:13.000               24   \n",
       "2  BRAEAR7WZPQGPBZU       9.0  2015-08-18 19:25:22.000              447   \n",
       "3  WATDZ2ZQ8JPDHCTJ      50.0  2016-03-28 21:53:01.000               23   \n",
       "4  JWSEBUKYQPMBZ3RK       7.0  2016-03-29 22:58:53.000               63   \n",
       "5  SHIECAYW3VZWGZGX      23.0  2015-09-25 16:31:46.000              162   \n",
       "6  SHOE4FZGGTE7HJXN      33.0  2014-12-08 12:25:52.000              462   \n",
       "7  SHOE6QGAYFFMBWG6       4.0  2015-09-22 14:29:06.000               23   \n",
       "8  KRTEBSMKCGFESHYX      26.0  2016-03-28 21:48:01.000              156   \n",
       "9  BRAE3P8Y8UVRY43K       5.0  2015-08-19 22:16:52.000              275   \n",
       "\n",
       "  Customer_name Loyalty_customer Product_Category  Grade  Demand  \\\n",
       "0      Lillyann              Yes          Fashion      1      68   \n",
       "1         Klynn              Yes          Fashion      0      51   \n",
       "2         Ridge              Yes       Child_care      0      10   \n",
       "3         Abran              Yes      Educational      2      48   \n",
       "4        Dustyn              Yes           Repair      1      35   \n",
       "5        Brilee              No        Technology      1      49   \n",
       "6           Zoe              No         Cosmetics      3      57   \n",
       "7          Koby              Yes      Educational      1      67   \n",
       "8       Tiffani              Yes       Child_care      0      53   \n",
       "9         Nigel              Yes       Child_care      0      84   \n",
       "\n",
       "   Discount_avail  charges_1  charges_2 (%)  Minimum_price  Maximum_price  \\\n",
       "0             0.0      376.0           11.0         2983.0         4713.0   \n",
       "1             0.0      397.0           12.0         7495.0        10352.0   \n",
       "2             0.0      250.0            9.0         5752.0         7309.0   \n",
       "3             0.0      144.0           13.0         5090.0        20814.0   \n",
       "4             1.0      211.0            4.0         2430.0         9261.0   \n",
       "5             0.0      633.0            6.0         3959.0         6104.0   \n",
       "6             0.0      263.0           13.0         2006.0         5257.0   \n",
       "7             0.0      104.0           15.0         3596.0         5921.0   \n",
       "8             0.0      310.0            6.0         6965.0        10194.0   \n",
       "9             1.0      321.0            8.0         1103.0         5430.0   \n",
       "\n",
       "   Selling_Price  \n",
       "0    4185.947700  \n",
       "1    9271.490256  \n",
       "2    6785.701362  \n",
       "3   13028.917824  \n",
       "4     906.553935  \n",
       "5    5631.247872  \n",
       "6    3874.264992  \n",
       "7    4820.943600  \n",
       "8    8837.724240  \n",
       "9     530.761862  "
      ]
     },
     "execution_count": 96,
     "metadata": {},
     "output_type": "execute_result"
    }
   ],
   "source": [
    "df = pd.read_csv(\"E:/Users/user/dataset/train.csv\")\n",
    "df.head(10)\n"
   ]
  },
  {
   "cell_type": "markdown",
   "id": "b8dce1e2",
   "metadata": {},
   "source": [
    "# EDA(Exploratory Data Analysis)"
   ]
  },
  {
   "cell_type": "code",
   "execution_count": 97,
   "id": "b9017395",
   "metadata": {},
   "outputs": [
    {
     "data": {
      "text/plain": [
       "(6368, 15)"
      ]
     },
     "execution_count": 97,
     "metadata": {},
     "output_type": "execute_result"
    }
   ],
   "source": [
    "df.shape"
   ]
  },
  {
   "cell_type": "code",
   "execution_count": 98,
   "id": "24cc725b",
   "metadata": {},
   "outputs": [
    {
     "name": "stdout",
     "output_type": "stream",
     "text": [
      "<class 'pandas.core.frame.DataFrame'>\n",
      "RangeIndex: 6368 entries, 0 to 6367\n",
      "Data columns (total 15 columns):\n",
      " #   Column            Non-Null Count  Dtype  \n",
      "---  ------            --------------  -----  \n",
      " 0   Product_id        6368 non-null   object \n",
      " 1   Stall_no          6363 non-null   float64\n",
      " 2   instock_date      6368 non-null   object \n",
      " 3   Market_Category   6368 non-null   int64  \n",
      " 4   Customer_name     6157 non-null   object \n",
      " 5   Loyalty_customer  6368 non-null   object \n",
      " 6   Product_Category  6368 non-null   object \n",
      " 7   Grade             6368 non-null   int64  \n",
      " 8   Demand            6368 non-null   int64  \n",
      " 9   Discount_avail    6330 non-null   float64\n",
      " 10  charges_1         6170 non-null   float64\n",
      " 11  charges_2 (%)     6163 non-null   float64\n",
      " 12  Minimum_price     6330 non-null   float64\n",
      " 13  Maximum_price     6025 non-null   float64\n",
      " 14  Selling_Price     6327 non-null   float64\n",
      "dtypes: float64(7), int64(3), object(5)\n",
      "memory usage: 746.4+ KB\n"
     ]
    }
   ],
   "source": [
    "df.info()"
   ]
  },
  {
   "cell_type": "code",
   "execution_count": 99,
   "id": "5ee80dad",
   "metadata": {},
   "outputs": [
    {
     "data": {
      "text/plain": [
       "Product_id            0\n",
       "Stall_no              5\n",
       "instock_date          0\n",
       "Market_Category       0\n",
       "Customer_name       211\n",
       "Loyalty_customer      0\n",
       "Product_Category      0\n",
       "Grade                 0\n",
       "Demand                0\n",
       "Discount_avail       38\n",
       "charges_1           198\n",
       "charges_2 (%)       205\n",
       "Minimum_price        38\n",
       "Maximum_price       343\n",
       "Selling_Price        41\n",
       "dtype: int64"
      ]
     },
     "execution_count": 99,
     "metadata": {},
     "output_type": "execute_result"
    }
   ],
   "source": [
    "# checking null values\n",
    "df.isnull().sum()"
   ]
  },
  {
   "cell_type": "code",
   "execution_count": 132,
   "id": "a8183ffa",
   "metadata": {},
   "outputs": [
    {
     "data": {
      "text/html": [
       "<div>\n",
       "<style scoped>\n",
       "    .dataframe tbody tr th:only-of-type {\n",
       "        vertical-align: middle;\n",
       "    }\n",
       "\n",
       "    .dataframe tbody tr th {\n",
       "        vertical-align: top;\n",
       "    }\n",
       "\n",
       "    .dataframe thead th {\n",
       "        text-align: right;\n",
       "    }\n",
       "</style>\n",
       "<table border=\"1\" class=\"dataframe\">\n",
       "  <thead>\n",
       "    <tr style=\"text-align: right;\">\n",
       "      <th></th>\n",
       "      <th>Stall_no</th>\n",
       "      <th>Market_Category</th>\n",
       "      <th>Loyalty_customer</th>\n",
       "      <th>Product_Category</th>\n",
       "      <th>Grade</th>\n",
       "      <th>Demand</th>\n",
       "      <th>Discount_avail</th>\n",
       "      <th>charges_1</th>\n",
       "      <th>charges_2 (%)</th>\n",
       "      <th>Minimum_price</th>\n",
       "      <th>Maximum_price</th>\n",
       "      <th>Selling_Price</th>\n",
       "    </tr>\n",
       "  </thead>\n",
       "  <tbody>\n",
       "    <tr>\n",
       "      <th>count</th>\n",
       "      <td>5397.000000</td>\n",
       "      <td>5397.000000</td>\n",
       "      <td>5397.000000</td>\n",
       "      <td>5397.000000</td>\n",
       "      <td>5397.000000</td>\n",
       "      <td>5397.000000</td>\n",
       "      <td>5397.000000</td>\n",
       "      <td>5397.000000</td>\n",
       "      <td>5397.000000</td>\n",
       "      <td>5397.000000</td>\n",
       "      <td>5397.000000</td>\n",
       "      <td>5397.000000</td>\n",
       "    </tr>\n",
       "    <tr>\n",
       "      <th>mean</th>\n",
       "      <td>25.274226</td>\n",
       "      <td>195.345192</td>\n",
       "      <td>0.606633</td>\n",
       "      <td>4.488975</td>\n",
       "      <td>0.656846</td>\n",
       "      <td>51.021493</td>\n",
       "      <td>0.148601</td>\n",
       "      <td>264.619789</td>\n",
       "      <td>10.172133</td>\n",
       "      <td>3545.304243</td>\n",
       "      <td>6490.750232</td>\n",
       "      <td>4564.473762</td>\n",
       "    </tr>\n",
       "    <tr>\n",
       "      <th>std</th>\n",
       "      <td>14.328238</td>\n",
       "      <td>168.947671</td>\n",
       "      <td>0.488542</td>\n",
       "      <td>2.893290</td>\n",
       "      <td>1.034118</td>\n",
       "      <td>29.065599</td>\n",
       "      <td>0.355728</td>\n",
       "      <td>124.373058</td>\n",
       "      <td>4.322204</td>\n",
       "      <td>2211.852120</td>\n",
       "      <td>3761.914857</td>\n",
       "      <td>3021.557220</td>\n",
       "    </tr>\n",
       "    <tr>\n",
       "      <th>min</th>\n",
       "      <td>1.000000</td>\n",
       "      <td>0.000000</td>\n",
       "      <td>0.000000</td>\n",
       "      <td>0.000000</td>\n",
       "      <td>0.000000</td>\n",
       "      <td>1.000000</td>\n",
       "      <td>0.000000</td>\n",
       "      <td>100.000000</td>\n",
       "      <td>1.000000</td>\n",
       "      <td>124.000000</td>\n",
       "      <td>404.000000</td>\n",
       "      <td>-6062.470000</td>\n",
       "    </tr>\n",
       "    <tr>\n",
       "      <th>25%</th>\n",
       "      <td>13.000000</td>\n",
       "      <td>55.000000</td>\n",
       "      <td>0.000000</td>\n",
       "      <td>2.000000</td>\n",
       "      <td>0.000000</td>\n",
       "      <td>26.000000</td>\n",
       "      <td>0.000000</td>\n",
       "      <td>163.000000</td>\n",
       "      <td>7.000000</td>\n",
       "      <td>1882.000000</td>\n",
       "      <td>3939.000000</td>\n",
       "      <td>2384.731503</td>\n",
       "    </tr>\n",
       "    <tr>\n",
       "      <th>50%</th>\n",
       "      <td>25.000000</td>\n",
       "      <td>124.000000</td>\n",
       "      <td>1.000000</td>\n",
       "      <td>5.000000</td>\n",
       "      <td>0.000000</td>\n",
       "      <td>51.000000</td>\n",
       "      <td>0.000000</td>\n",
       "      <td>253.000000</td>\n",
       "      <td>10.000000</td>\n",
       "      <td>3174.000000</td>\n",
       "      <td>5693.000000</td>\n",
       "      <td>4219.225472</td>\n",
       "    </tr>\n",
       "    <tr>\n",
       "      <th>75%</th>\n",
       "      <td>37.000000</td>\n",
       "      <td>358.000000</td>\n",
       "      <td>1.000000</td>\n",
       "      <td>7.000000</td>\n",
       "      <td>2.000000</td>\n",
       "      <td>77.000000</td>\n",
       "      <td>0.000000</td>\n",
       "      <td>316.000000</td>\n",
       "      <td>14.000000</td>\n",
       "      <td>4710.000000</td>\n",
       "      <td>8183.000000</td>\n",
       "      <td>6206.618880</td>\n",
       "    </tr>\n",
       "    <tr>\n",
       "      <th>max</th>\n",
       "      <td>50.000000</td>\n",
       "      <td>471.000000</td>\n",
       "      <td>1.000000</td>\n",
       "      <td>9.000000</td>\n",
       "      <td>3.000000</td>\n",
       "      <td>100.000000</td>\n",
       "      <td>1.000000</td>\n",
       "      <td>649.000000</td>\n",
       "      <td>17.000000</td>\n",
       "      <td>17580.000000</td>\n",
       "      <td>58812.000000</td>\n",
       "      <td>22638.325941</td>\n",
       "    </tr>\n",
       "  </tbody>\n",
       "</table>\n",
       "</div>"
      ],
      "text/plain": [
       "          Stall_no  Market_Category  Loyalty_customer  Product_Category  \\\n",
       "count  5397.000000      5397.000000       5397.000000       5397.000000   \n",
       "mean     25.274226       195.345192          0.606633          4.488975   \n",
       "std      14.328238       168.947671          0.488542          2.893290   \n",
       "min       1.000000         0.000000          0.000000          0.000000   \n",
       "25%      13.000000        55.000000          0.000000          2.000000   \n",
       "50%      25.000000       124.000000          1.000000          5.000000   \n",
       "75%      37.000000       358.000000          1.000000          7.000000   \n",
       "max      50.000000       471.000000          1.000000          9.000000   \n",
       "\n",
       "             Grade       Demand  Discount_avail    charges_1  charges_2 (%)  \\\n",
       "count  5397.000000  5397.000000     5397.000000  5397.000000    5397.000000   \n",
       "mean      0.656846    51.021493        0.148601   264.619789      10.172133   \n",
       "std       1.034118    29.065599        0.355728   124.373058       4.322204   \n",
       "min       0.000000     1.000000        0.000000   100.000000       1.000000   \n",
       "25%       0.000000    26.000000        0.000000   163.000000       7.000000   \n",
       "50%       0.000000    51.000000        0.000000   253.000000      10.000000   \n",
       "75%       2.000000    77.000000        0.000000   316.000000      14.000000   \n",
       "max       3.000000   100.000000        1.000000   649.000000      17.000000   \n",
       "\n",
       "       Minimum_price  Maximum_price  Selling_Price  \n",
       "count    5397.000000    5397.000000    5397.000000  \n",
       "mean     3545.304243    6490.750232    4564.473762  \n",
       "std      2211.852120    3761.914857    3021.557220  \n",
       "min       124.000000     404.000000   -6062.470000  \n",
       "25%      1882.000000    3939.000000    2384.731503  \n",
       "50%      3174.000000    5693.000000    4219.225472  \n",
       "75%      4710.000000    8183.000000    6206.618880  \n",
       "max     17580.000000   58812.000000   22638.325941  "
      ]
     },
     "execution_count": 132,
     "metadata": {},
     "output_type": "execute_result"
    }
   ],
   "source": [
    "#Statistical measurements of numerical data\n",
    "df.describe()"
   ]
  },
  {
   "cell_type": "code",
   "execution_count": 133,
   "id": "995115c7",
   "metadata": {},
   "outputs": [],
   "source": [
    "#dropping the null values\n",
    "df = df.dropna()"
   ]
  },
  {
   "cell_type": "code",
   "execution_count": 134,
   "id": "935df017",
   "metadata": {},
   "outputs": [
    {
     "data": {
      "text/plain": [
       "Product_id          0\n",
       "Stall_no            0\n",
       "instock_date        0\n",
       "Market_Category     0\n",
       "Customer_name       0\n",
       "Loyalty_customer    0\n",
       "Product_Category    0\n",
       "Grade               0\n",
       "Demand              0\n",
       "Discount_avail      0\n",
       "charges_1           0\n",
       "charges_2 (%)       0\n",
       "Minimum_price       0\n",
       "Maximum_price       0\n",
       "Selling_Price       0\n",
       "dtype: int64"
      ]
     },
     "execution_count": 134,
     "metadata": {},
     "output_type": "execute_result"
    }
   ],
   "source": [
    "df.isnull().sum()"
   ]
  },
  {
   "cell_type": "markdown",
   "id": "82e333ec",
   "metadata": {},
   "source": [
    "# Data Visualization"
   ]
  },
  {
   "cell_type": "code",
   "execution_count": 103,
   "id": "29d01cf6",
   "metadata": {},
   "outputs": [
    {
     "name": "stderr",
     "output_type": "stream",
     "text": [
      "E:\\anaconda\\lib\\site-packages\\seaborn\\distributions.py:2557: FutureWarning: `distplot` is a deprecated function and will be removed in a future version. Please adapt your code to use either `displot` (a figure-level function with similar flexibility) or `histplot` (an axes-level function for histograms).\n",
      "  warnings.warn(msg, FutureWarning)\n"
     ]
    },
    {
     "data": {
      "text/plain": [
       "<AxesSubplot:xlabel='Selling_Price', ylabel='Density'>"
      ]
     },
     "execution_count": 103,
     "metadata": {},
     "output_type": "execute_result"
    },
    {
     "data": {
      "image/png": "[encoded data removed]",
      "text/plain": [
       "<Figure size 432x288 with 1 Axes>"
      ]
     },
     "metadata": {
      "needs_background": "light"
     },
     "output_type": "display_data"
    }
   ],
   "source": [
    "sns.distplot(df['Selling_Price'])"
   ]
  },
  {
   "cell_type": "code",
   "execution_count": 104,
   "id": "bbccb7ef",
   "metadata": {},
   "outputs": [
    {
     "name": "stderr",
     "output_type": "stream",
     "text": [
      "E:\\anaconda\\lib\\site-packages\\seaborn\\distributions.py:2557: FutureWarning: `distplot` is a deprecated function and will be removed in a future version. Please adapt your code to use either `displot` (a figure-level function with similar flexibility) or `histplot` (an axes-level function for histograms).\n",
      "  warnings.warn(msg, FutureWarning)\n"
     ]
    },
    {
     "data": {
      "text/plain": [
       "<AxesSubplot:xlabel='Maximum_price', ylabel='Density'>"
      ]
     },
     "execution_count": 104,
     "metadata": {},
     "output_type": "execute_result"
    },
    {
     "data": {
      "image/png": "[encoded data removed]",
      "text/plain": [
       "<Figure size 432x288 with 1 Axes>"
      ]
     },
     "metadata": {
      "needs_background": "light"
     },
     "output_type": "display_data"
    }
   ],
   "source": [
    "sns.distplot(df['Maximum_price'])\n",
    "\n"
   ]
  },
  {
   "cell_type": "code",
   "execution_count": 105,
   "id": "685fa836",
   "metadata": {},
   "outputs": [
    {
     "name": "stderr",
     "output_type": "stream",
     "text": [
      "E:\\anaconda\\lib\\site-packages\\seaborn\\distributions.py:2557: FutureWarning: `distplot` is a deprecated function and will be removed in a future version. Please adapt your code to use either `displot` (a figure-level function with similar flexibility) or `histplot` (an axes-level function for histograms).\n",
      "  warnings.warn(msg, FutureWarning)\n"
     ]
    },
    {
     "data": {
      "text/plain": [
       "<AxesSubplot:xlabel='Minimum_price', ylabel='Density'>"
      ]
     },
     "execution_count": 105,
     "metadata": {},
     "output_type": "execute_result"
    },
    {
     "data": {
      "image/png": "[encoded data removed]",
      "text/plain": [
       "<Figure size 432x288 with 1 Axes>"
      ]
     },
     "metadata": {
      "needs_background": "light"
     },
     "output_type": "display_data"
    }
   ],
   "source": [
    "sns.distplot(df['Minimum_price'])"
   ]
  },
  {
   "cell_type": "code",
   "execution_count": 106,
   "id": "c17b6e2c",
   "metadata": {},
   "outputs": [
    {
     "name": "stderr",
     "output_type": "stream",
     "text": [
      "E:\\anaconda\\lib\\site-packages\\seaborn\\distributions.py:2557: FutureWarning: `distplot` is a deprecated function and will be removed in a future version. Please adapt your code to use either `displot` (a figure-level function with similar flexibility) or `histplot` (an axes-level function for histograms).\n",
      "  warnings.warn(msg, FutureWarning)\n"
     ]
    },
    {
     "data": {
      "text/plain": [
       "<AxesSubplot:xlabel='Demand', ylabel='Density'>"
      ]
     },
     "execution_count": 106,
     "metadata": {},
     "output_type": "execute_result"
    },
    {
     "data": {
      "image/png": "[encoded data removed]",
      "text/plain": [
       "<Figure size 432x288 with 1 Axes>"
      ]
     },
     "metadata": {
      "needs_background": "light"
     },
     "output_type": "display_data"
    }
   ],
   "source": [
    "sns.distplot(df['Demand'])"
   ]
  },
  {
   "cell_type": "code",
   "execution_count": 107,
   "id": "e98d3389",
   "metadata": {},
   "outputs": [
    {
     "name": "stderr",
     "output_type": "stream",
     "text": [
      "E:\\anaconda\\lib\\site-packages\\seaborn\\distributions.py:2557: FutureWarning: `distplot` is a deprecated function and will be removed in a future version. Please adapt your code to use either `displot` (a figure-level function with similar flexibility) or `histplot` (an axes-level function for histograms).\n",
      "  warnings.warn(msg, FutureWarning)\n"
     ]
    },
    {
     "data": {
      "text/plain": [
       "<AxesSubplot:xlabel='Market_Category', ylabel='Density'>"
      ]
     },
     "execution_count": 107,
     "metadata": {},
     "output_type": "execute_result"
    },
    {
     "data": {
      "image/png": "[encoded data removed]",
      "text/plain": [
       "<Figure size 432x288 with 1 Axes>"
      ]
     },
     "metadata": {
      "needs_background": "light"
     },
     "output_type": "display_data"
    }
   ],
   "source": [
    "sns.distplot(df['Market_Category'])"
   ]
  },
  {
   "cell_type": "code",
   "execution_count": 108,
   "id": "0ba21577",
   "metadata": {},
   "outputs": [
    {
     "data": {
      "text/plain": [
       "<AxesSubplot:xlabel='Loyalty_customer', ylabel='count'>"
      ]
     },
     "execution_count": 108,
     "metadata": {},
     "output_type": "execute_result"
    },
    {
     "data": {
      "image/png": "[encoded data removed]",
      "text/plain": [
       "<Figure size 432x288 with 1 Axes>"
      ]
     },
     "metadata": {
      "needs_background": "light"
     },
     "output_type": "display_data"
    }
   ],
   "source": [
    "sns.countplot(x = 'Loyalty_customer', data = df)"
   ]
  },
  {
   "cell_type": "code",
   "execution_count": 109,
   "id": "f443810b",
   "metadata": {},
   "outputs": [],
   "source": [
    "# maximum number of customers are loyal"
   ]
  },
  {
   "cell_type": "code",
   "execution_count": 110,
   "id": "57738997",
   "metadata": {},
   "outputs": [
    {
     "data": {
      "text/plain": [
       "<AxesSubplot:xlabel='Product_Category', ylabel='count'>"
      ]
     },
     "execution_count": 110,
     "metadata": {},
     "output_type": "execute_result"
    },
    {
     "data": {
      "image/png": "[encoded data removed]",
      "text/plain": [
       "<Figure size 1080x720 with 1 Axes>"
      ]
     },
     "metadata": {
      "needs_background": "light"
     },
     "output_type": "display_data"
    }
   ],
   "source": [
    "plt.figure(figsize = (15,10))\n",
    "sns.countplot(x = 'Product_Category', data = df)"
   ]
  },
  {
   "cell_type": "code",
   "execution_count": 111,
   "id": "e19de163",
   "metadata": {},
   "outputs": [
    {
     "data": {
      "text/plain": [
       "Pet_care       585\n",
       "Child_care     565\n",
       "Cosmetics      561\n",
       "Repair         550\n",
       "Hospitality    532\n",
       "Educational    527\n",
       "Organic        526\n",
       "Technology     522\n",
       "Home_decor     516\n",
       "Fashion        513\n",
       "Name: Product_Category, dtype: int64"
      ]
     },
     "execution_count": 111,
     "metadata": {},
     "output_type": "execute_result"
    }
   ],
   "source": [
    "df['Product_Category'].value_counts()"
   ]
  },
  {
   "cell_type": "code",
   "execution_count": 112,
   "id": "cb91d30d",
   "metadata": {},
   "outputs": [],
   "source": [
    "# most of the products sold were from pet care but all are nearly in equal count"
   ]
  },
  {
   "cell_type": "code",
   "execution_count": 113,
   "id": "24dda7c5",
   "metadata": {},
   "outputs": [
    {
     "data": {
      "text/plain": [
       "2015-09-22 15:24:59.000    5\n",
       "2015-09-25 13:22:53.000    5\n",
       "2015-09-22 14:25:16.000    5\n",
       "2016-03-29 21:55:43.000    5\n",
       "2016-03-28 21:11:53.000    5\n",
       "                          ..\n",
       "2016-03-28 23:48:01.000    1\n",
       "2016-03-28 22:51:34.000    1\n",
       "2015-09-26 13:29:48.000    1\n",
       "2016-03-28 22:02:58.000    1\n",
       "2015-11-18 05:54:21.000    1\n",
       "Name: instock_date, Length: 4678, dtype: int64"
      ]
     },
     "execution_count": 113,
     "metadata": {},
     "output_type": "execute_result"
    }
   ],
   "source": [
    "df['instock_date'].value_counts()"
   ]
  },
  {
   "cell_type": "code",
   "execution_count": 114,
   "id": "faa3f93d",
   "metadata": {},
   "outputs": [
    {
     "data": {
      "text/plain": [
       "<AxesSubplot:>"
      ]
     },
     "execution_count": 114,
     "metadata": {},
     "output_type": "execute_result"
    },
    {
     "data": {
      "image/png": "[encoded data removed]",
      "text/plain": [
       "<Figure size 1080x720 with 2 Axes>"
      ]
     },
     "metadata": {
      "needs_background": "light"
     },
     "output_type": "display_data"
    }
   ],
   "source": [
    "plt.figure(figsize = (15,10))\n",
    "sns.heatmap(df.corr(),annot = True,cmap = 'YlGnBu')"
   ]
  },
  {
   "cell_type": "code",
   "execution_count": 115,
   "id": "3153cc9d",
   "metadata": {},
   "outputs": [
    {
     "name": "stdout",
     "output_type": "stream",
     "text": [
      "<class 'pandas.core.frame.DataFrame'>\n",
      "Int64Index: 5397 entries, 0 to 6367\n",
      "Data columns (total 15 columns):\n",
      " #   Column            Non-Null Count  Dtype  \n",
      "---  ------            --------------  -----  \n",
      " 0   Product_id        5397 non-null   object \n",
      " 1   Stall_no          5397 non-null   float64\n",
      " 2   instock_date      5397 non-null   object \n",
      " 3   Market_Category   5397 non-null   int64  \n",
      " 4   Customer_name     5397 non-null   object \n",
      " 5   Loyalty_customer  5397 non-null   object \n",
      " 6   Product_Category  5397 non-null   object \n",
      " 7   Grade             5397 non-null   int64  \n",
      " 8   Demand            5397 non-null   int64  \n",
      " 9   Discount_avail    5397 non-null   float64\n",
      " 10  charges_1         5397 non-null   float64\n",
      " 11  charges_2 (%)     5397 non-null   float64\n",
      " 12  Minimum_price     5397 non-null   float64\n",
      " 13  Maximum_price     5397 non-null   float64\n",
      " 14  Selling_Price     5397 non-null   float64\n",
      "dtypes: float64(7), int64(3), object(5)\n",
      "memory usage: 803.7+ KB\n"
     ]
    }
   ],
   "source": [
    "df.info()"
   ]
  },
  {
   "cell_type": "code",
   "execution_count": 135,
   "id": "773e8a21",
   "metadata": {},
   "outputs": [],
   "source": [
    "# converting the categorical values into numerical using labelencoding\n",
    "from sklearn.preprocessing import LabelEncoder\n",
    "encode = LabelEncoder()"
   ]
  },
  {
   "cell_type": "code",
   "execution_count": 117,
   "id": "f5dc89ab",
   "metadata": {},
   "outputs": [],
   "source": [
    "Loyalty_customer = encode.fit_transform(df['Loyalty_customer'])\n",
    "df['Loyalty_customer'] = Loyalty_customer\n",
    "\n",
    "Product_Category = encode.fit_transform(df['Product_Category'])\n",
    "df['Product_Category'] = Product_Category\n",
    "\n",
    "\n"
   ]
  },
  {
   "cell_type": "code",
   "execution_count": 118,
   "id": "0924c83b",
   "metadata": {},
   "outputs": [
    {
     "data": {
      "text/html": [
       "<div>\n",
       "<style scoped>\n",
       "    .dataframe tbody tr th:only-of-type {\n",
       "        vertical-align: middle;\n",
       "    }\n",
       "\n",
       "    .dataframe tbody tr th {\n",
       "        vertical-align: top;\n",
       "    }\n",
       "\n",
       "    .dataframe thead th {\n",
       "        text-align: right;\n",
       "    }\n",
       "</style>\n",
       "<table border=\"1\" class=\"dataframe\">\n",
       "  <thead>\n",
       "    <tr style=\"text-align: right;\">\n",
       "      <th></th>\n",
       "      <th>Product_id</th>\n",
       "      <th>Stall_no</th>\n",
       "      <th>instock_date</th>\n",
       "      <th>Market_Category</th>\n",
       "      <th>Customer_name</th>\n",
       "      <th>Loyalty_customer</th>\n",
       "      <th>Product_Category</th>\n",
       "      <th>Grade</th>\n",
       "      <th>Demand</th>\n",
       "      <th>Discount_avail</th>\n",
       "      <th>charges_1</th>\n",
       "      <th>charges_2 (%)</th>\n",
       "      <th>Minimum_price</th>\n",
       "      <th>Maximum_price</th>\n",
       "      <th>Selling_Price</th>\n",
       "    </tr>\n",
       "  </thead>\n",
       "  <tbody>\n",
       "    <tr>\n",
       "      <th>0</th>\n",
       "      <td>BRAE2NF6JA5GUEXG</td>\n",
       "      <td>37.0</td>\n",
       "      <td>2015-08-22 18:36:12.000</td>\n",
       "      <td>2</td>\n",
       "      <td>Lillyann</td>\n",
       "      <td>1</td>\n",
       "      <td>3</td>\n",
       "      <td>1</td>\n",
       "      <td>68</td>\n",
       "      <td>0.0</td>\n",
       "      <td>376.0</td>\n",
       "      <td>11.0</td>\n",
       "      <td>2983.0</td>\n",
       "      <td>4713.0</td>\n",
       "      <td>4185.947700</td>\n",
       "    </tr>\n",
       "    <tr>\n",
       "      <th>1</th>\n",
       "      <td>TUNE8SFB6RJN2HSD</td>\n",
       "      <td>38.0</td>\n",
       "      <td>2016-03-27 21:19:13.000</td>\n",
       "      <td>24</td>\n",
       "      <td>Klynn</td>\n",
       "      <td>1</td>\n",
       "      <td>3</td>\n",
       "      <td>0</td>\n",
       "      <td>51</td>\n",
       "      <td>0.0</td>\n",
       "      <td>397.0</td>\n",
       "      <td>12.0</td>\n",
       "      <td>7495.0</td>\n",
       "      <td>10352.0</td>\n",
       "      <td>9271.490256</td>\n",
       "    </tr>\n",
       "    <tr>\n",
       "      <th>2</th>\n",
       "      <td>BRAEAR7WZPQGPBZU</td>\n",
       "      <td>9.0</td>\n",
       "      <td>2015-08-18 19:25:22.000</td>\n",
       "      <td>447</td>\n",
       "      <td>Ridge</td>\n",
       "      <td>1</td>\n",
       "      <td>0</td>\n",
       "      <td>0</td>\n",
       "      <td>10</td>\n",
       "      <td>0.0</td>\n",
       "      <td>250.0</td>\n",
       "      <td>9.0</td>\n",
       "      <td>5752.0</td>\n",
       "      <td>7309.0</td>\n",
       "      <td>6785.701362</td>\n",
       "    </tr>\n",
       "    <tr>\n",
       "      <th>3</th>\n",
       "      <td>WATDZ2ZQ8JPDHCTJ</td>\n",
       "      <td>50.0</td>\n",
       "      <td>2016-03-28 21:53:01.000</td>\n",
       "      <td>23</td>\n",
       "      <td>Abran</td>\n",
       "      <td>1</td>\n",
       "      <td>2</td>\n",
       "      <td>2</td>\n",
       "      <td>48</td>\n",
       "      <td>0.0</td>\n",
       "      <td>144.0</td>\n",
       "      <td>13.0</td>\n",
       "      <td>5090.0</td>\n",
       "      <td>20814.0</td>\n",
       "      <td>13028.917824</td>\n",
       "    </tr>\n",
       "    <tr>\n",
       "      <th>4</th>\n",
       "      <td>JWSEBUKYQPMBZ3RK</td>\n",
       "      <td>7.0</td>\n",
       "      <td>2016-03-29 22:58:53.000</td>\n",
       "      <td>63</td>\n",
       "      <td>Dustyn</td>\n",
       "      <td>1</td>\n",
       "      <td>8</td>\n",
       "      <td>1</td>\n",
       "      <td>35</td>\n",
       "      <td>1.0</td>\n",
       "      <td>211.0</td>\n",
       "      <td>4.0</td>\n",
       "      <td>2430.0</td>\n",
       "      <td>9261.0</td>\n",
       "      <td>906.553935</td>\n",
       "    </tr>\n",
       "    <tr>\n",
       "      <th>5</th>\n",
       "      <td>SHIECAYW3VZWGZGX</td>\n",
       "      <td>23.0</td>\n",
       "      <td>2015-09-25 16:31:46.000</td>\n",
       "      <td>162</td>\n",
       "      <td>Brilee</td>\n",
       "      <td>0</td>\n",
       "      <td>9</td>\n",
       "      <td>1</td>\n",
       "      <td>49</td>\n",
       "      <td>0.0</td>\n",
       "      <td>633.0</td>\n",
       "      <td>6.0</td>\n",
       "      <td>3959.0</td>\n",
       "      <td>6104.0</td>\n",
       "      <td>5631.247872</td>\n",
       "    </tr>\n",
       "    <tr>\n",
       "      <th>6</th>\n",
       "      <td>SHOE4FZGGTE7HJXN</td>\n",
       "      <td>33.0</td>\n",
       "      <td>2014-12-08 12:25:52.000</td>\n",
       "      <td>462</td>\n",
       "      <td>Zoe</td>\n",
       "      <td>0</td>\n",
       "      <td>1</td>\n",
       "      <td>3</td>\n",
       "      <td>57</td>\n",
       "      <td>0.0</td>\n",
       "      <td>263.0</td>\n",
       "      <td>13.0</td>\n",
       "      <td>2006.0</td>\n",
       "      <td>5257.0</td>\n",
       "      <td>3874.264992</td>\n",
       "    </tr>\n",
       "    <tr>\n",
       "      <th>7</th>\n",
       "      <td>SHOE6QGAYFFMBWG6</td>\n",
       "      <td>4.0</td>\n",
       "      <td>2015-09-22 14:29:06.000</td>\n",
       "      <td>23</td>\n",
       "      <td>Koby</td>\n",
       "      <td>1</td>\n",
       "      <td>2</td>\n",
       "      <td>1</td>\n",
       "      <td>67</td>\n",
       "      <td>0.0</td>\n",
       "      <td>104.0</td>\n",
       "      <td>15.0</td>\n",
       "      <td>3596.0</td>\n",
       "      <td>5921.0</td>\n",
       "      <td>4820.943600</td>\n",
       "    </tr>\n",
       "    <tr>\n",
       "      <th>8</th>\n",
       "      <td>KRTEBSMKCGFESHYX</td>\n",
       "      <td>26.0</td>\n",
       "      <td>2016-03-28 21:48:01.000</td>\n",
       "      <td>156</td>\n",
       "      <td>Tiffani</td>\n",
       "      <td>1</td>\n",
       "      <td>0</td>\n",
       "      <td>0</td>\n",
       "      <td>53</td>\n",
       "      <td>0.0</td>\n",
       "      <td>310.0</td>\n",
       "      <td>6.0</td>\n",
       "      <td>6965.0</td>\n",
       "      <td>10194.0</td>\n",
       "      <td>8837.724240</td>\n",
       "    </tr>\n",
       "    <tr>\n",
       "      <th>9</th>\n",
       "      <td>BRAE3P8Y8UVRY43K</td>\n",
       "      <td>5.0</td>\n",
       "      <td>2015-08-19 22:16:52.000</td>\n",
       "      <td>275</td>\n",
       "      <td>Nigel</td>\n",
       "      <td>1</td>\n",
       "      <td>0</td>\n",
       "      <td>0</td>\n",
       "      <td>84</td>\n",
       "      <td>1.0</td>\n",
       "      <td>321.0</td>\n",
       "      <td>8.0</td>\n",
       "      <td>1103.0</td>\n",
       "      <td>5430.0</td>\n",
       "      <td>530.761862</td>\n",
       "    </tr>\n",
       "  </tbody>\n",
       "</table>\n",
       "</div>"
      ],
      "text/plain": [
       "         Product_id  Stall_no             instock_date  Market_Category  \\\n",
       "0  BRAE2NF6JA5GUEXG      37.0  2015-08-22 18:36:12.000                2   \n",
       "1  TUNE8SFB6RJN2HSD      38.0  2016-03-27 21:19:13.000               24   \n",
       "2  BRAEAR7WZPQGPBZU       9.0  2015-08-18 19:25:22.000              447   \n",
       "3  WATDZ2ZQ8JPDHCTJ      50.0  2016-03-28 21:53:01.000               23   \n",
       "4  JWSEBUKYQPMBZ3RK       7.0  2016-03-29 22:58:53.000               63   \n",
       "5  SHIECAYW3VZWGZGX      23.0  2015-09-25 16:31:46.000              162   \n",
       "6  SHOE4FZGGTE7HJXN      33.0  2014-12-08 12:25:52.000              462   \n",
       "7  SHOE6QGAYFFMBWG6       4.0  2015-09-22 14:29:06.000               23   \n",
       "8  KRTEBSMKCGFESHYX      26.0  2016-03-28 21:48:01.000              156   \n",
       "9  BRAE3P8Y8UVRY43K       5.0  2015-08-19 22:16:52.000              275   \n",
       "\n",
       "  Customer_name  Loyalty_customer  Product_Category  Grade  Demand  \\\n",
       "0      Lillyann                 1                 3      1      68   \n",
       "1         Klynn                 1                 3      0      51   \n",
       "2         Ridge                 1                 0      0      10   \n",
       "3         Abran                 1                 2      2      48   \n",
       "4        Dustyn                 1                 8      1      35   \n",
       "5        Brilee                 0                 9      1      49   \n",
       "6           Zoe                 0                 1      3      57   \n",
       "7          Koby                 1                 2      1      67   \n",
       "8       Tiffani                 1                 0      0      53   \n",
       "9         Nigel                 1                 0      0      84   \n",
       "\n",
       "   Discount_avail  charges_1  charges_2 (%)  Minimum_price  Maximum_price  \\\n",
       "0             0.0      376.0           11.0         2983.0         4713.0   \n",
       "1             0.0      397.0           12.0         7495.0        10352.0   \n",
       "2             0.0      250.0            9.0         5752.0         7309.0   \n",
       "3             0.0      144.0           13.0         5090.0        20814.0   \n",
       "4             1.0      211.0            4.0         2430.0         9261.0   \n",
       "5             0.0      633.0            6.0         3959.0         6104.0   \n",
       "6             0.0      263.0           13.0         2006.0         5257.0   \n",
       "7             0.0      104.0           15.0         3596.0         5921.0   \n",
       "8             0.0      310.0            6.0         6965.0        10194.0   \n",
       "9             1.0      321.0            8.0         1103.0         5430.0   \n",
       "\n",
       "   Selling_Price  \n",
       "0    4185.947700  \n",
       "1    9271.490256  \n",
       "2    6785.701362  \n",
       "3   13028.917824  \n",
       "4     906.553935  \n",
       "5    5631.247872  \n",
       "6    3874.264992  \n",
       "7    4820.943600  \n",
       "8    8837.724240  \n",
       "9     530.761862  "
      ]
     },
     "execution_count": 118,
     "metadata": {},
     "output_type": "execute_result"
    }
   ],
   "source": [
    "df.head(10)"
   ]
  },
  {
   "cell_type": "code",
   "execution_count": 119,
   "id": "d6f95636",
   "metadata": {},
   "outputs": [],
   "source": [
    "#Separating values into X and Y\n",
    "X = df.drop(columns = ['Product_id','instock_date','Customer_name','Selling_Price'],axis = 1)\n",
    "Y = df['Selling_Price']"
   ]
  },
  {
   "cell_type": "code",
   "execution_count": 120,
   "id": "90a747ff",
   "metadata": {},
   "outputs": [
    {
     "name": "stdout",
     "output_type": "stream",
     "text": [
      "      Stall_no  Market_Category  Loyalty_customer  Product_Category  Grade  \\\n",
      "0         37.0                2                 1                 3      1   \n",
      "1         38.0               24                 1                 3      0   \n",
      "2          9.0              447                 1                 0      0   \n",
      "3         50.0               23                 1                 2      2   \n",
      "4          7.0               63                 1                 8      1   \n",
      "...        ...              ...               ...               ...    ...   \n",
      "6363      17.0               24                 1                 9      0   \n",
      "6364      21.0               55                 1                 0      0   \n",
      "6365      36.0              358                 0                 8      3   \n",
      "6366      27.0              452                 1                 8      0   \n",
      "6367      11.0               58                 1                 9      0   \n",
      "\n",
      "      Demand  Discount_avail  charges_1  charges_2 (%)  Minimum_price  \\\n",
      "0         68             0.0      376.0           11.0         2983.0   \n",
      "1         51             0.0      397.0           12.0         7495.0   \n",
      "2         10             0.0      250.0            9.0         5752.0   \n",
      "3         48             0.0      144.0           13.0         5090.0   \n",
      "4         35             1.0      211.0            4.0         2430.0   \n",
      "...      ...             ...        ...            ...            ...   \n",
      "6363      47             0.0      614.0           10.0         8174.0   \n",
      "6364      35             0.0      269.0            5.0         3564.0   \n",
      "6365      29             0.0      283.0            3.0         5303.0   \n",
      "6366       8             0.0      267.0            3.0         4334.0   \n",
      "6367      94             0.0      614.0            7.0         3975.0   \n",
      "\n",
      "      Maximum_price  \n",
      "0            4713.0  \n",
      "1           10352.0  \n",
      "2            7309.0  \n",
      "3           20814.0  \n",
      "4            9261.0  \n",
      "...             ...  \n",
      "6363        11266.0  \n",
      "6364         4920.0  \n",
      "6365        14614.0  \n",
      "6366         5849.0  \n",
      "6367         5383.0  \n",
      "\n",
      "[5397 rows x 11 columns] 0        4185.947700\n",
      "1        9271.490256\n",
      "2        6785.701362\n",
      "3       13028.917824\n",
      "4         906.553935\n",
      "            ...     \n",
      "6363    10277.520192\n",
      "6364     4501.837200\n",
      "6365    10218.878775\n",
      "6366     5359.493997\n",
      "6367     5220.013568\n",
      "Name: Selling_Price, Length: 5397, dtype: float64\n"
     ]
    }
   ],
   "source": [
    "print(X,Y)"
   ]
  },
  {
   "cell_type": "markdown",
   "id": "da423a69",
   "metadata": {},
   "source": [
    "# Splitting the data into training data and testing data"
   ]
  },
  {
   "cell_type": "code",
   "execution_count": 121,
   "id": "14131f0e",
   "metadata": {},
   "outputs": [],
   "source": [
    "from sklearn.model_selection import train_test_split\n",
    "X_train,X_test,Y_train,Y_test = train_test_split(X,Y,test_size = 0.2,random_state = 3)"
   ]
  },
  {
   "cell_type": "code",
   "execution_count": 122,
   "id": "a686397d",
   "metadata": {},
   "outputs": [
    {
     "name": "stdout",
     "output_type": "stream",
     "text": [
      "(5397, 11) (4317, 11) (1080, 11)\n"
     ]
    }
   ],
   "source": [
    "print(X.shape,X_train.shape,X_test.shape)"
   ]
  },
  {
   "cell_type": "code",
   "execution_count": 123,
   "id": "3ffb013e",
   "metadata": {},
   "outputs": [],
   "source": [
    "# Standardize the data\n",
    "from sklearn.preprocessing import StandardScaler\n",
    "scaler = StandardScaler()\n",
    "scaler.fit(X_train)\n",
    "X_train_scaled = scaler.transform(X_train)\n",
    "X_test_scaled = scaler.transform(X_test)"
   ]
  },
  {
   "cell_type": "code",
   "execution_count": 124,
   "id": "5a1a853d",
   "metadata": {},
   "outputs": [
    {
     "data": {
      "text/plain": [
       "LinearRegression()"
      ]
     },
     "execution_count": 124,
     "metadata": {},
     "output_type": "execute_result"
    }
   ],
   "source": [
    "# model Building\n",
    "from sklearn.linear_model import LinearRegression\n",
    "regressor = LinearRegression()\n",
    "regressor.fit(X_train_scaled,Y_train)"
   ]
  },
  {
   "cell_type": "code",
   "execution_count": 125,
   "id": "ed5781f2",
   "metadata": {},
   "outputs": [],
   "source": [
    "from sklearn.metrics import r2_score"
   ]
  },
  {
   "cell_type": "code",
   "execution_count": 136,
   "id": "e2b49156",
   "metadata": {},
   "outputs": [
    {
     "name": "stdout",
     "output_type": "stream",
     "text": [
      "R2_score for training data:  0.8896924355793228\n"
     ]
    }
   ],
   "source": [
    "# Finding Score \n",
    "X_train_pred = regressor.predict(X_train_scaled)\n",
    "training_data_score = r2_score(X_train_pred,Y_train)\n",
    "print(\"R2_score for training data: \",training_data_score)"
   ]
  },
  {
   "cell_type": "code",
   "execution_count": 127,
   "id": "2d6ca9a6",
   "metadata": {},
   "outputs": [
    {
     "name": "stdout",
     "output_type": "stream",
     "text": [
      "R2_score for test data:  0.8965483613828545\n"
     ]
    }
   ],
   "source": [
    "X_test_pred = regressor.predict(X_test_scaled)\n",
    "test_data_score = r2_score(X_test_pred,Y_test)\n",
    "print(\"R2_score for test data: \",test_data_score)"
   ]
  },
  {
   "cell_type": "code",
   "execution_count": null,
   "id": "7ee969cb",
   "metadata": {},
   "outputs": [],
   "source": [
    "# As the Training score and Testing Score is good and there is no overfitting so we shall Build the Predictive System"
   ]
  },
  {
   "cell_type": "code",
   "execution_count": 128,
   "id": "ac0d5b90",
   "metadata": {},
   "outputs": [
    {
     "name": "stdout",
     "output_type": "stream",
     "text": [
      "[[ 1.64439818 -1.13989316  0.80597691 -0.50570544 -0.63710829  1.23175853\n",
      "  -0.42216173  1.04861774  1.34958464 -1.05038766 -1.19315526]]\n",
      "[2311.9014805]\n",
      "The Selling Price of the product is:  [2311.9014805]\n"
     ]
    }
   ],
   "source": [
    "# Building a Predictive model\n",
    "input_data = (49,3,1,3,0,87,0,393,16,1202,1955)\n",
    "input_data_as_numpy_array = np.asarray(input_data)\n",
    "input_data_reshape = input_data_as_numpy_array.reshape(1,-1)\n",
    "std_data = scaler.transform(input_data_reshape)\n",
    "print(std_data)\n",
    "\n",
    "prediction = regressor.predict(std_data)\n",
    "print(prediction)\n",
    "print(\"The Selling Price of the product is: \",prediction)\n"
   ]
  },
  {
   "cell_type": "code",
   "execution_count": 130,
   "id": "03463359",
   "metadata": {},
   "outputs": [
    {
     "name": "stdout",
     "output_type": "stream",
     "text": [
      "[[-0.72091685 -1.13989316 -1.24073034 -0.85119213 -0.63710829  0.23615816\n",
      "  -0.42216173 -1.18837687  1.34958464 -0.56694048 -0.75202933]]\n",
      "[3268.2382941]\n",
      "The Selling Price of the product is:  [3268.2382941]\n"
     ]
    }
   ],
   "source": [
    "input_data = (15,3,0,2,0,58,0,117,16,2267,3622)\n",
    "input_data_as_numpy_array = np.asarray(input_data)\n",
    "input_data_reshape = input_data_as_numpy_array.reshape(1,-1)\n",
    "std_data = scaler.transform(input_data_reshape)\n",
    "print(std_data)\n",
    "\n",
    "prediction = regressor.predict(std_data)\n",
    "print(prediction)\n",
    "print(\"The Selling Price of the product is: \",prediction)\n"
   ]
  },
  {
   "cell_type": "code",
   "execution_count": 131,
   "id": "95c5e343",
   "metadata": {},
   "outputs": [
    {
     "name": "stdout",
     "output_type": "stream",
     "text": [
      "[[-0.65134876 -1.02111617  0.80597691 -1.19667882  1.29164099  0.61379968\n",
      "   2.36876044  0.06790634  0.88711783  0.96420259  1.77061824]]\n",
      "[4613.01202774]\n",
      "The Selling Price of the product is:  [4613.01202774]\n"
     ]
    }
   ],
   "source": [
    "input_data = (16,23,1,1,2,69,1,272,14,5640,13155)\n",
    "input_data_as_numpy_array = np.asarray(input_data)\n",
    "input_data_reshape = input_data_as_numpy_array.reshape(1,-1)\n",
    "std_data = scaler.transform(input_data_reshape)\n",
    "print(std_data)\n",
    "\n",
    "prediction = regressor.predict(std_data)\n",
    "print(prediction)\n",
    "print(\"The Selling Price of the product is: \",prediction)\n"
   ]
  },
  {
   "cell_type": "code",
   "execution_count": null,
   "id": "bd2b5b63",
   "metadata": {},
   "outputs": [],
   "source": []
  },
  {
   "cell_type": "code",
   "execution_count": null,
   "id": "42989a78",
   "metadata": {},
   "outputs": [],
   "source": []
  }
 ],
 "metadata": {
  "kernelspec": {
   "display_name": "Python 3",
   "language": "python",
   "name": "python3"
  },
  "language_info": {
   "codemirror_mode": {
    "name": "ipython",
    "version": 3
   },
   "file_extension": ".py",
   "mimetype": "text/x-python",
   "name": "python",
   "nbconvert_exporter": "python",
   "pygments_lexer": "ipython3",
   "version": "3.8.8"
  }
 },
 "nbformat": 4,
 "nbformat_minor": 5
}
